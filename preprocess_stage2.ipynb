{
 "cells": [
  {
   "cell_type": "markdown",
   "metadata": {},
   "source": [
    "### Clean the generated train and test tsv file"
   ]
  },
  {
   "cell_type": "code",
   "execution_count": null,
   "metadata": {},
   "outputs": [],
   "source": [
    "import csv"
   ]
  },
  {
   "cell_type": "code",
   "execution_count": 2,
   "metadata": {},
   "outputs": [],
   "source": [
    "# Calulate span length for a given document\n",
    "def cal_span_length(_doc_label):\n",
    "    labels = _doc_label.split()\n",
    "    if 'B-CAU' in labels and 'B-EMO' in labels:\n",
    "        length = 0\n",
    "        keep_count = False\n",
    "        for label in labels:\n",
    "            if keep_count and 'I' in label:\n",
    "                length += 1\n",
    "                continue\n",
    "            if 'B' in label:\n",
    "                keep_count = True\n",
    "                length += 1\n",
    "            elif label == 'O':\n",
    "                keep_count = False\n",
    "    else:\n",
    "        return -1\n",
    "    return length"
   ]
  },
  {
   "cell_type": "code",
   "execution_count": null,
   "metadata": {},
   "outputs": [],
   "source": [
    "##### clean train/test raw data #####\n",
    "tsv_file = open('./raw-data/eca-train.tsv')\n",
    "read_tsv = csv.reader(tsv_file, delimiter=\"\\t\")\n",
    "\n",
    "data = []\n",
    "pre_doc = None\n",
    "pre_doc_label = None\n",
    "pre_emotion_label = None\n",
    "dup = 0\n",
    "invalid = 0\n",
    "total = 0\n",
    "\n",
    "with open('./data/eca-train-cleaned.tsv', 'wt') as write_tsv:\n",
    "    tsv_writer = csv.writer(write_tsv, delimiter=\"\\t\")\n",
    "    tsv_writer.writerow(['document', 'token_label', 'emotion_label'])\n",
    "    for i, line in enumerate(read_tsv):\n",
    "        if i == 0: continue\n",
    "        document = line[0]\n",
    "        doc_label = line[1]\n",
    "        emotion_label = line[2]\n",
    "        \n",
    "        if document == pre_doc:\n",
    "            dup += 1\n",
    "            # count the lengths of well-formed span for both emotion and cause, keepest the longest one\n",
    "            curr_lengths = cal_span_length(doc_label)\n",
    "            pre_lengths = cal_span_length(pre_doc_label)\n",
    "            if curr_lengths >= pre_lengths:\n",
    "                pre_doc = document\n",
    "                pre_doc_label = doc_label\n",
    "                pre_emotion_label = emotion_label\n",
    "        else:\n",
    "            if pre_doc != None:\n",
    "                if ('B-CAU' not in pre_doc_label.split() and 'B-EMO' not in pre_doc_label.split()) or ('B-EMO' in pre_doc_label.split() and 'B-CAU' not in pre_doc_label.split()) or ('B-EMO' not in pre_doc_label.split() and 'B-CAU' in pre_doc_label.split()):\n",
    "                    invalid += 1\n",
    "                else:\n",
    "                    total += 1\n",
    "                    tsv_writer.writerow([pre_doc, pre_doc_label, pre_emotion_label])\n",
    "            pre_doc = document\n",
    "            pre_doc_label = doc_label\n",
    "            pre_emotion_label = emotion_label\n",
    "            \n",
    "            \n",
    "        if i == 487:  # total # of test samples\n",
    "            total += 1\n",
    "            tsv_writer.writerow([document, doc_label, emotion_label])\n"
   ]
  },
  {
   "cell_type": "code",
   "execution_count": null,
   "metadata": {},
   "outputs": [],
   "source": [
    "##### clean train/test raw data #####\n",
    "tsv_file = open('./raw-data/eca-test.tsv')\n",
    "read_tsv = csv.reader(tsv_file, delimiter=\"\\t\")\n",
    "\n",
    "data = []\n",
    "pre_doc = None\n",
    "pre_doc_label = None\n",
    "pre_emotion_label = None\n",
    "dup = 0\n",
    "invalid = 0\n",
    "total = 0\n",
    "\n",
    "with open('./data/eca-test-cleaned.tsv', 'wt') as write_tsv:\n",
    "    tsv_writer = csv.writer(write_tsv, delimiter=\"\\t\")\n",
    "    tsv_writer.writerow(['document', 'token_label', 'emotion_label'])\n",
    "    for i, line in enumerate(read_tsv):\n",
    "        if i == 0: continue\n",
    "        document = line[0]\n",
    "        doc_label = line[1]\n",
    "        emotion_label = line[2]\n",
    "        \n",
    "        if document == pre_doc:\n",
    "            dup += 1\n",
    "            # count the lengths of well-formed span for both emotion and cause, keepest the longest one\n",
    "            curr_lengths = cal_span_length(doc_label)\n",
    "            pre_lengths = cal_span_length(pre_doc_label)\n",
    "            if curr_lengths >= pre_lengths:\n",
    "                pre_doc = document\n",
    "                pre_doc_label = doc_label\n",
    "                pre_emotion_label = emotion_label\n",
    "        else:\n",
    "            if pre_doc != None:\n",
    "                if ('B-CAU' not in pre_doc_label.split() and 'B-EMO' not in pre_doc_label.split()) or ('B-EMO' in pre_doc_label.split() and 'B-CAU' not in pre_doc_label.split()) or ('B-EMO' not in pre_doc_label.split() and 'B-CAU' in pre_doc_label.split()):\n",
    "                    invalid += 1\n",
    "                else:\n",
    "                    total += 1\n",
    "                    tsv_writer.writerow([pre_doc, pre_doc_label, pre_emotion_label])\n",
    "            pre_doc = document\n",
    "            pre_doc_label = doc_label\n",
    "            pre_emotion_label = emotion_label\n",
    "            \n",
    "            \n",
    "        if i == 487:  # total # of test samples\n",
    "            total += 1\n",
    "            tsv_writer.writerow([document, doc_label, emotion_label])"
   ]
  }
 ],
 "metadata": {
  "interpreter": {
   "hash": "e580587a7498ca9c7843674176bb44986bc87123b652bb254bff0ae7271bb021"
  },
  "kernelspec": {
   "display_name": "Python 3.7.11 ('eca')",
   "language": "python",
   "name": "python3"
  },
  "language_info": {
   "codemirror_mode": {
    "name": "ipython",
    "version": 3
   },
   "file_extension": ".py",
   "mimetype": "text/x-python",
   "name": "python",
   "nbconvert_exporter": "python",
   "pygments_lexer": "ipython3",
   "version": "3.9.7"
  },
  "orig_nbformat": 4
 },
 "nbformat": 4,
 "nbformat_minor": 2
}
