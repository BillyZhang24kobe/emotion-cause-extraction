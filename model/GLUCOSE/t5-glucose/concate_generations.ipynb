{
 "cells": [
  {
   "cell_type": "markdown",
   "metadata": {},
   "source": [
    "### This file concatenates T5 generated explanations to the pair dataset"
   ]
  },
  {
   "cell_type": "code",
   "execution_count": 1,
   "metadata": {},
   "outputs": [],
   "source": [
    "import os\n",
    "import pandas as pd\n",
    "import re"
   ]
  },
  {
   "cell_type": "code",
   "execution_count": 2,
   "metadata": {},
   "outputs": [],
   "source": [
    "train_pair = pd.read_csv('./data/clause-train-pair.tsv', sep='\\t')\n",
    "dev_pair = pd.read_csv('./data/clause-dev-pair.tsv', sep='\\t')"
   ]
  },
  {
   "cell_type": "code",
   "execution_count": 4,
   "metadata": {},
   "outputs": [
    {
     "name": "stdout",
     "output_type": "stream",
     "text": [
      "<class 'pandas.core.frame.DataFrame'>\n",
      "RangeIndex: 23342 entries, 0 to 23341\n",
      "Data columns (total 5 columns):\n",
      " #   Column         Non-Null Count  Dtype \n",
      "---  ------         --------------  ----- \n",
      " 0   clause         23342 non-null  object\n",
      " 1   document       23342 non-null  object\n",
      " 2   token_label    23342 non-null  object\n",
      " 3   emotion-label  23342 non-null  object\n",
      " 4   doc_id         23342 non-null  int64 \n",
      "dtypes: int64(1), object(4)\n",
      "memory usage: 911.9+ KB\n"
     ]
    }
   ],
   "source": [
    "train_pair.info()"
   ]
  },
  {
   "cell_type": "code",
   "execution_count": 3,
   "metadata": {},
   "outputs": [],
   "source": [
    "with open('./outputs/dim7-dev-glucose-target.txt-1315700', 'r') as f_dev:\n",
    "    dev_dim1 = f_dev.readlines()\n",
    "\n",
    "with open('./outputs/dim7-train-glucose-target.txt-1315700', 'r') as f_train:\n",
    "    train_dim1 = f_train.readlines()"
   ]
  },
  {
   "cell_type": "code",
   "execution_count": 4,
   "metadata": {},
   "outputs": [],
   "source": [
    "# regex for decoding\n",
    "p1 = re.compile(r'b\"(.*?)\"')\n",
    "p2 = re.compile(r'b\\'(.*?)\\'')\n",
    "# b\"(.*?)\"|b'(.*?)'\n",
    "dev_dim1_clean_1 = []\n",
    "dev_dim1_clean_2 = []\n",
    "for item in dev_dim1:\n",
    "    # print(p1.findall(item))\n",
    "    dev_dim1_clean_1.append(p1.findall(item))\n",
    "    dev_dim1_clean_2.append(p2.findall(item))\n",
    "\n",
    "dev_dim1_clean = []\n",
    "for idx, item in enumerate(dev_dim1_clean_1):\n",
    "    if len(item) == 0:\n",
    "        dev_dim1_clean.append(dev_dim1_clean_2[idx][0])\n",
    "    else:\n",
    "        dev_dim1_clean.append(dev_dim1_clean_1[idx][0])\n"
   ]
  },
  {
   "cell_type": "code",
   "execution_count": 5,
   "metadata": {},
   "outputs": [],
   "source": [
    "train_dim1_clean_1 = []\n",
    "train_dim1_clean_2 = []\n",
    "for item in train_dim1:\n",
    "    # print(p1.findall(item))\n",
    "    train_dim1_clean_1.append(p1.findall(item))\n",
    "    train_dim1_clean_2.append(p2.findall(item))\n",
    "\n",
    "train_dim1_clean = []\n",
    "for idx, item in enumerate(train_dim1_clean_1):\n",
    "    if len(item) == 0:\n",
    "        train_dim1_clean.append(train_dim1_clean_2[idx][0])\n",
    "    else:\n",
    "        train_dim1_clean.append(train_dim1_clean_1[idx][0])"
   ]
  },
  {
   "cell_type": "code",
   "execution_count": 6,
   "metadata": {},
   "outputs": [
    {
     "name": "stdout",
     "output_type": "stream",
     "text": [
      "Isidore\\\n",
      "That was my entire fortune--give--friends--against---- Someone_A lost their entire fortune >Causes> Someone_A feel(s) sad\n",
      "Paul\\\n",
      "She was disappointed by her son's poor results at school. >Causes> She feel(s) disappointed.\n",
      "He breaks my vase >Causes> I feel(s) furious\n",
      "I'm horrified by the amount of violence on television today >Causes> I feel(s) angered\n",
      "I get irritated when he changes TV channels without asking me first >Causes> I feel(s) angered\n",
      "I'm reluctant to buy a new car \\xe2\\x80\\x93 the one we have is fine. >Causes> I feel(s) proud of our car.\n",
      "She was seething after her boss criticised her >Causes> She feel(s) angry\n",
      "The respected critic said the film was as pleasant as week-old garbage rotting in the sun >Causes> The actors feel(s) disgusted\n",
      "Homer (who is a writer) writes about Something_A (that is a story) >Causes> Someone_A (who is a reader) feel(s) inspired\n",
      "Isidore\\\n",
      "That was my entire fortune--give--friends--against---- Someone_A lost their entire fortune >Causes> Someone_A feel(s) sad\n",
      "Paul\\\n",
      "She is annoyed by his comments >Causes> She feel(s) angry\n",
      "She was disappointed by her son's poor results at school. >Causes> She feel(s) disappointed.\n",
      "He breaks my vase >Causes> I feel(s) furious\n",
      "I'm horrified by the amount of violence on television today >Causes> I feel(s) angered\n",
      "I get irritated when he changes TV channels without asking me first >Causes> I feel(s) angered\n",
      "I'm reluctant to buy a new car \\xe2\\x80\\x93 the one we have is fine. >Causes> I feel(s) proud of our car.\n",
      "She was seething after her boss criticised her >Causes> She feel(s) angry\n",
      "The respected critic said the film was as pleasant as week-old garbage rotting in the sun >Causes> The actors feel(s) disgusted\n",
      "Homer (who is a writer) writes about Something_A (that is a story) >Causes> Someone_A (who is a reader) feel(s) inspired\n"
     ]
    }
   ],
   "source": [
    "train_dim1_clean_spec = []\n",
    "train_dim1_clean_general = []\n",
    "for item in train_dim1_clean:\n",
    "    if '**' in item:\n",
    "        train_dim1_clean_spec.append(item.split('**')[0].strip())\n",
    "        train_dim1_clean_general.append(item.split('**')[1].strip())\n",
    "    else:\n",
    "        print(item.split('**')[0].strip())\n",
    "        train_dim1_clean_spec.append(item.split('**')[0].strip())\n",
    "        train_dim1_clean_general.append('')"
   ]
  },
  {
   "cell_type": "code",
   "execution_count": 7,
   "metadata": {},
   "outputs": [],
   "source": [
    "dev_dim1_clean_spec = []\n",
    "dev_dim1_clean_general = []\n",
    "for item in dev_dim1_clean:\n",
    "    if '**' in item:\n",
    "        dev_dim1_clean_spec.append(item.split('**')[0].strip())\n",
    "        dev_dim1_clean_general.append(item.split('**')[1].strip())\n",
    "    else:\n",
    "        print(item.split('**')[0].strip())\n",
    "        dev_dim1_clean_spec.append(item.split('**')[0].strip())\n",
    "        dev_dim1_clean_general.append('')"
   ]
  },
  {
   "cell_type": "code",
   "execution_count": 8,
   "metadata": {},
   "outputs": [],
   "source": [
    "# all\n",
    "# train_pair['dim2'] = train_dim1_clean\n",
    "# dev_pair['dim2'] = dev_dim1_clean\n",
    "\n",
    "# spec\n",
    "train_pair['dim7'] = train_dim1_clean_spec\n",
    "dev_pair['dim7'] = dev_dim1_clean_spec\n",
    "\n",
    "# general\n",
    "# train_pair['dim2'] = train_dim1_clean_general\n",
    "# dev_pair['dim2'] = dev_dim1_clean_general"
   ]
  },
  {
   "cell_type": "code",
   "execution_count": 9,
   "metadata": {},
   "outputs": [
    {
     "data": {
      "text/plain": [
       "0        Then Thorkill >Causes> They feel(s) apprehensive\n",
       "1       they are of two minds >Causes> they feel(s) st...\n",
       "2       thomaskill prevents them from entering >Causes...\n",
       "3       They are encouraged >Causes> They feel(s) enco...\n",
       "4       They are to restrain themselves >Causes> They ...\n",
       "                              ...                        \n",
       "3390          He found my father >Causes> I feel(s) happy\n",
       "3391    My father learns that he rushed in to save her...\n",
       "3392    He helps them save their fridge >Causes> They ...\n",
       "3393    My mother was worried about telling him he had...\n",
       "3394    He looked into my eyes and was delighted >Caus...\n",
       "Name: dim7, Length: 3395, dtype: object"
      ]
     },
     "execution_count": 9,
     "metadata": {},
     "output_type": "execute_result"
    }
   ],
   "source": [
    "dev_pair['dim7']"
   ]
  },
  {
   "cell_type": "code",
   "execution_count": 12,
   "metadata": {},
   "outputs": [],
   "source": [
    "# save the train and dev as tsv files\n",
    "train_pair.to_csv(\"./data/clause-train-pair-dim7-spec.tsv\", sep=\"\\t\", index=False)\n",
    "dev_pair.to_csv(\"./data/clause-dev-pair-dim7-spec.tsv\", sep=\"\\t\", index=False)"
   ]
  },
  {
   "cell_type": "code",
   "execution_count": null,
   "metadata": {},
   "outputs": [],
   "source": []
  }
 ],
 "metadata": {
  "interpreter": {
   "hash": "46cf1e84df6923ffb19028e015655dcda4c4cf18a8167566ca6732abf3ea935e"
  },
  "kernelspec": {
   "display_name": "Python 3.9.7 ('base')",
   "language": "python",
   "name": "python3"
  },
  "language_info": {
   "codemirror_mode": {
    "name": "ipython",
    "version": 3
   },
   "file_extension": ".py",
   "mimetype": "text/x-python",
   "name": "python",
   "nbconvert_exporter": "python",
   "pygments_lexer": "ipython3",
   "version": "3.9.7"
  },
  "orig_nbformat": 4
 },
 "nbformat": 4,
 "nbformat_minor": 2
}
