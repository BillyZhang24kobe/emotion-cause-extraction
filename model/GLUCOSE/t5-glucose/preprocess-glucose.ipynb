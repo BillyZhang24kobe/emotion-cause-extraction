{
 "cells": [
  {
   "cell_type": "markdown",
   "metadata": {},
   "source": [
    "### This file converts pair dataset into GLUCOSE-type input data"
   ]
  },
  {
   "cell_type": "code",
   "execution_count": 1,
   "metadata": {},
   "outputs": [],
   "source": [
    "import pandas as pd"
   ]
  },
  {
   "cell_type": "code",
   "execution_count": 3,
   "metadata": {},
   "outputs": [],
   "source": [
    "train_pair = pd.read_csv('./data/clause-train-pair.tsv', sep='\\t')\n",
    "dev_pair = pd.read_csv('./data/clause-dev-pair.tsv', sep='\\t')\n",
    "test_pair = pd.read_csv('./data/clause-test-pair.tsv', sep='\\t')"
   ]
  },
  {
   "cell_type": "code",
   "execution_count": 4,
   "metadata": {},
   "outputs": [
    {
     "name": "stdout",
     "output_type": "stream",
     "text": [
      "<class 'pandas.core.frame.DataFrame'>\n",
      "RangeIndex: 23342 entries, 0 to 23341\n",
      "Data columns (total 5 columns):\n",
      " #   Column         Non-Null Count  Dtype \n",
      "---  ------         --------------  ----- \n",
      " 0   clause         23342 non-null  object\n",
      " 1   document       23342 non-null  object\n",
      " 2   token_label    23342 non-null  object\n",
      " 3   emotion-label  23342 non-null  object\n",
      " 4   doc_id         23342 non-null  int64 \n",
      "dtypes: int64(1), object(4)\n",
      "memory usage: 911.9+ KB\n"
     ]
    }
   ],
   "source": [
    "train_pair.info()"
   ]
  },
  {
   "cell_type": "code",
   "execution_count": 5,
   "metadata": {},
   "outputs": [
    {
     "data": {
      "text/plain": [
       "1529"
      ]
     },
     "execution_count": 5,
     "metadata": {},
     "output_type": "execute_result"
    }
   ],
   "source": [
    "len(train_pair['doc_id'].unique())"
   ]
  },
  {
   "cell_type": "code",
   "execution_count": null,
   "metadata": {},
   "outputs": [],
   "source": [
    "dim = '7'\n",
    "for index, row in dev_pair.iterrows():\n",
    "        clause = row['clause'].strip()\n",
    "        document = row['document'].strip()\n",
    "        doc_list = []\n",
    "        for idx, _clause in enumerate(document.split('\\t ')):\n",
    "            if _clause.endswith('.'):\n",
    "                doc_list.append(_clause.strip())\n",
    "            else:\n",
    "                doc_list.append(_clause.strip() + '.')\n",
    "        if clause.endswith('.'):\n",
    "            index = doc_list.index(clause.strip())\n",
    "        else:\n",
    "            index = doc_list.index(clause.strip() + '.')\n",
    "        doc_list[index] = '*' + doc_list[index] + '*'\n",
    "        line = \"#{}: \".format(dim) + ' '.join(doc_list)"
   ]
  },
  {
   "cell_type": "code",
   "execution_count": 5,
   "metadata": {},
   "outputs": [],
   "source": [
    "for dim in ['7']:\n",
    "    for split in ['train', 'test', 'dev']:\n",
    "        with open('./data/dim{}-{}-glucose.txt'.format(dim, split), 'w') as f:\n",
    "            if split == 'train':\n",
    "                pair_data = train_pair\n",
    "            elif split == 'dev':\n",
    "                pair_data = dev_pair\n",
    "            else:\n",
    "                pair_data = test_pair\n",
    "            for index, row in pair_data.iterrows():\n",
    "                clause = row['clause'].strip()\n",
    "                document = row['document'].strip()\n",
    "                doc_list = []\n",
    "                for idx, _clause in enumerate(document.split('\\t ')):\n",
    "                    if _clause.endswith('.'):\n",
    "                        doc_list.append(_clause.strip())\n",
    "                    else:\n",
    "                        doc_list.append(_clause.strip() + '.')\n",
    "                if clause.endswith('.'):\n",
    "                    index = doc_list.index(clause.strip())\n",
    "                else:\n",
    "                    index = doc_list.index(clause.strip() + '.')\n",
    "                doc_list[index] = '*' + doc_list[index] + '*'\n",
    "                line = \"#{}: \".format(dim) + ' '.join(doc_list)\n",
    "                f.write(line + '\\n')"
   ]
  },
  {
   "cell_type": "markdown",
   "metadata": {},
   "source": [
    "#### Convert dim spec to natural language transition"
   ]
  },
  {
   "cell_type": "code",
   "execution_count": 1,
   "metadata": {},
   "outputs": [],
   "source": [
    "import pandas as pd"
   ]
  },
  {
   "cell_type": "code",
   "execution_count": 2,
   "metadata": {},
   "outputs": [],
   "source": [
    "dev_dim7_spec = pd.read_csv('./data/clause-dev-pair-dim7-spec.tsv', sep='\\t')\n",
    "train_dim7_spec = pd.read_csv('./data/clause-train-pair-dim7-spec.tsv', sep='\\t')"
   ]
  },
  {
   "cell_type": "code",
   "execution_count": 3,
   "metadata": {},
   "outputs": [
    {
     "name": "stdout",
     "output_type": "stream",
     "text": [
      "<class 'pandas.core.frame.DataFrame'>\n",
      "RangeIndex: 3395 entries, 0 to 3394\n",
      "Data columns (total 6 columns):\n",
      " #   Column         Non-Null Count  Dtype \n",
      "---  ------         --------------  ----- \n",
      " 0   clause         3395 non-null   object\n",
      " 1   document       3395 non-null   object\n",
      " 2   token_label    3395 non-null   object\n",
      " 3   emotion-label  3395 non-null   object\n",
      " 4   doc_id         3395 non-null   int64 \n",
      " 5   dim7           3395 non-null   object\n",
      "dtypes: int64(1), object(5)\n",
      "memory usage: 159.3+ KB\n"
     ]
    }
   ],
   "source": [
    "dev_dim7_spec.info()"
   ]
  },
  {
   "cell_type": "code",
   "execution_count": 4,
   "metadata": {},
   "outputs": [],
   "source": [
    "train_pair = pd.read_csv('./data/clause-train-pair.tsv', sep='\\t')\n",
    "dev_pair = pd.read_csv('./data/clause-dev-pair.tsv', sep='\\t')"
   ]
  },
  {
   "cell_type": "code",
   "execution_count": 5,
   "metadata": {},
   "outputs": [],
   "source": [
    "# Converts dim7 spec to natural language\n",
    "train_dim7_spec_col = train_dim7_spec['dim7']\n",
    "dev_dim7_spec_col = dev_dim7_spec['dim7']"
   ]
  },
  {
   "cell_type": "code",
   "execution_count": null,
   "metadata": {},
   "outputs": [],
   "source": [
    "train_dim7_natural_col = []\n",
    "dev_dim7_natural_col = []\n",
    "for idx, row in train_dim7_spec.iterrows():\n",
    "    if 'they' == row['dim7'].lower().split()[0]:\n",
    "        new_row = row['dim7'].replace(\">Causes>\", \". As a result, they feel\")\n",
    "    elif 'she' == row['dim7'].lower().split()[0]:\n",
    "        new_row = row['dim7'].replace(\">Causes>\", \". As a result, she feels\")\n",
    "    elif 'i' == row['dim7'].lower().split()[0]:\n",
    "        new_row = row['dim7'].replace(\">Causes>\", \". As a result, I feel\")\n",
    "    elif 'you' == row['dim7'].lower().split()[0]:\n",
    "        new_row = row['dim7'].replace(\">Causes>\", \". As a result, you feel\")\n",
    "    elif 'we' == row['dim7'].lower().split()[0]:\n",
    "        new_row = row['dim7'].replace(\">Causes>\", \". As a result, we feel\")\n",
    "        print(new_row)        \n",
    "    else:\n",
    "        new_row = row['dim7'].replace(\">Causes>\", \". As a result, he feels\")\n",
    "    train_dim7_natural_col.append(new_row)\n",
    "\n",
    "for idx, row in dev_dim7_spec.iterrows():\n",
    "    if 'they' == row['dim7'].lower().split()[0]:\n",
    "        new_row = row['dim7'].replace(\">Causes>\", \". As a result, they feel\")\n",
    "    elif 'she' == row['dim7'].lower().split()[0]:\n",
    "        new_row = row['dim7'].replace(\">Causes>\", \". As a result, she feels\")\n",
    "    elif 'i' == row['dim7'].lower().split()[0]:\n",
    "        new_row = row['dim7'].replace(\">Causes>\", \". As a result, I feel\")\n",
    "    elif 'you' == row['dim7'].lower().split()[0]:\n",
    "        new_row = row['dim7'].replace(\">Causes>\", \". As a result, you feel\")\n",
    "    elif 'we' == row['dim7'].lower().split()[0]:\n",
    "        new_row = row['dim7'].replace(\">Causes>\", \". As a result, we feel\")\n",
    "        print(new_row)        \n",
    "    else:\n",
    "        new_row = row['dim7'].replace(\">Causes>\", \". As a result, he feels\")\n",
    "    dev_dim7_natural_col.append(new_row)\n",
    "\n",
    "dev_dim7_spec['dim7_spec_natural'] = dev_dim7_natural_col\n",
    "train_dim7_spec['dim7_spec_natural'] = train_dim7_natural_col"
   ]
  },
  {
   "cell_type": "code",
   "execution_count": 5,
   "metadata": {},
   "outputs": [],
   "source": [
    "# dev_dim6_spec['dim6_spec_natural'] = dev_dim6_spec['dim6'].str.replace('>Causes/Enables>', 'causes')\n",
    "# train_dim6_spec['dim6_spec_natural'] = train_dim6_spec['dim6'].str.replace('>Causes/Enables>', 'causes')\n"
   ]
  },
  {
   "cell_type": "code",
   "execution_count": 7,
   "metadata": {},
   "outputs": [],
   "source": [
    "dev_dim7_spec = dev_dim7_spec.drop(['dim7'], axis=1)\n",
    "train_dim7_spec = train_dim7_spec.drop(['dim7'], axis=1)"
   ]
  },
  {
   "cell_type": "code",
   "execution_count": 8,
   "metadata": {},
   "outputs": [
    {
     "data": {
      "text/plain": [
       "14260    M. Fortunat is cold and smooth . As a result, ...\n",
       "Name: dim7_spec_natural, dtype: object"
      ]
     },
     "execution_count": 8,
     "metadata": {},
     "output_type": "execute_result"
    }
   ],
   "source": [
    "train_dim7_spec['dim7_spec_natural'].sample(1)"
   ]
  },
  {
   "cell_type": "code",
   "execution_count": 19,
   "metadata": {},
   "outputs": [],
   "source": [
    "train_dim7_spec.to_csv(\"./data/clause-train-pair-dim7-spec-natural.tsv\", sep=\"\\t\", index=False)\n",
    "dev_dim7_spec.to_csv(\"./data/clause-dev-pair-dim7-spec-natural.tsv\", sep=\"\\t\", index=False)"
   ]
  }
 ],
 "metadata": {
  "interpreter": {
   "hash": "46cf1e84df6923ffb19028e015655dcda4c4cf18a8167566ca6732abf3ea935e"
  },
  "kernelspec": {
   "display_name": "Python 3.9.7 ('base')",
   "language": "python",
   "name": "python3"
  },
  "language_info": {
   "codemirror_mode": {
    "name": "ipython",
    "version": 3
   },
   "file_extension": ".py",
   "mimetype": "text/x-python",
   "name": "python",
   "nbconvert_exporter": "python",
   "pygments_lexer": "ipython3",
   "version": "3.9.7"
  },
  "orig_nbformat": 4
 },
 "nbformat": 4,
 "nbformat_minor": 2
}
