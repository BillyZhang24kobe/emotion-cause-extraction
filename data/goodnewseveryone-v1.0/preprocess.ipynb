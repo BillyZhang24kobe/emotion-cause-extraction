{
 "cells": [
  {
   "cell_type": "markdown",
   "metadata": {},
   "source": [
    "#### This notebook preprocesses GoodNewsEveryone dataset to fit into our training pipeline"
   ]
  },
  {
   "cell_type": "code",
   "execution_count": 112,
   "metadata": {},
   "outputs": [],
   "source": [
    "import json\n",
    "import re\n",
    "import csv\n",
    "import pandas as pd\n",
    "import numpy as np"
   ]
  },
  {
   "cell_type": "code",
   "execution_count": 101,
   "metadata": {},
   "outputs": [],
   "source": [
    "with open('gne-release-v1.0.jsonl', 'r') as jfile:\n",
    "    json_list = list(jfile)\n",
    "\n",
    "data = []\n",
    "for json_str in json_list:\n",
    "    data.append(json.loads(json_str))\n",
    "\n",
    "data_cleaned = []  # data point with gold cause annotation\n",
    "for d in data:\n",
    "    if len(d['annotations']['cause']['gold'][0]) != 0:\n",
    "        data_cleaned.append(d)"
   ]
  },
  {
   "cell_type": "code",
   "execution_count": 96,
   "metadata": {},
   "outputs": [
    {
     "name": "stdout",
     "output_type": "stream",
     "text": [
      "full-term abortion clinic injures woman during botched abortion – report0\n",
      "Full-Term Abortion Clinic Injures Woman During Botched Abortion – Report\n",
      "anger\n"
     ]
    }
   ],
   "source": [
    "print(data[587]['annotations']['cause']['gold'][0][0])  # cause\n",
    "print(data[587]['headline'])  # document\n",
    "print(data[587]['annotations']['dominant_emotion']['gold'])  # emotion"
   ]
  },
  {
   "cell_type": "code",
   "execution_count": 60,
   "metadata": {},
   "outputs": [
    {
     "data": {
      "text/plain": [
       "4799"
      ]
     },
     "execution_count": 60,
     "metadata": {},
     "output_type": "execute_result"
    }
   ],
   "source": [
    "# number of datapoint with cause annotation\n",
    "len(data_cleaned)"
   ]
  },
  {
   "cell_type": "code",
   "execution_count": 62,
   "metadata": {},
   "outputs": [],
   "source": [
    "def getIndex(lst1, lst2):\n",
    "    return next(((i, i + (len(lst2) if len(lst2) > 1 else 0)) for i in range(len(lst1) - len(lst2) + 1) if lst1[i:i + len(lst2)] == lst2), None)"
   ]
  },
  {
   "cell_type": "code",
   "execution_count": 110,
   "metadata": {},
   "outputs": [
    {
     "name": "stdout",
     "output_type": "stream",
     "text": [
      "fullterm abortion clinic injures woman during botched abortion  report\n",
      "fullterm abortion clinic injures woman during botched abortion  report0\n",
      "9\n",
      "0\n",
      "**************************************************\n",
      "trumps madefortv moment in north korea\n",
      "tv moment in north korea\n",
      "6\n",
      "0\n",
      "**************************************************\n",
      "north korea is waiting for trump to blinkor leave office\n",
      "north korea is waiting for trump to blink or leave office\n",
      "10\n",
      "0\n",
      "**************************************************\n",
      "biden is toastand so is the party of open borders\n",
      "and so is the party of open borders\n",
      "10\n",
      "0\n",
      "**************************************************\n",
      "the us team just won the womens world cupand boosted its case for equal pay\n",
      "and boosted its case for equal pay\n",
      "15\n",
      "0\n",
      "**************************************************\n",
      "weve seen the debatesand what could be our future\n",
      "and what could be our future\n",
      "9\n",
      "0\n",
      "**************************************************\n",
      "10year yield at 2473 2year yield at 2319 30year yield at 2899\n",
      "year yield at\n",
      "12\n",
      "0\n",
      "**************************************************\n",
      "mother of three shopping for school supplies died protecting her 2yearold during a massacrein america\n",
      "died protecting her 2yearold during a massacre\n",
      "15\n",
      "0\n",
      "**************************************************\n",
      "a brief history of the moviesummarizing endcredits rap\n",
      "summarizing endcredits rap\n",
      "8\n",
      "0\n",
      "**************************************************\n",
      "apple microsoft and google are all releasing fixes for zombieload a scary security flaw in intel chips that researchers just discovered intc\n",
      "re all releasing fixes for zombieload a scary security flaw in intel chips that researchers just discovered intc\n",
      "22\n",
      "0\n",
      "**************************************************\n",
      "virginias ncaawinning basketball team declines white house invitation\n",
      "winning basketball team declines white house invitation\n",
      "8\n",
      "0\n",
      "**************************************************\n"
     ]
    }
   ],
   "source": [
    "with open('./data/full_data.tsv', 'wt') as out_file:\n",
    "    tsv_writer = csv.writer(out_file, delimiter='\\t')\n",
    "    tsv_writer.writerow(['document', 'token_label', 'emotion-label'])\n",
    "    for d in data_cleaned:\n",
    "        document = d['headline'].lower()\n",
    "        document = document.replace('and#039;', ' ')\n",
    "        document = re.sub(r'[^\\w\\s]', '', document)\n",
    "        # print(document)\n",
    "        cause = d['annotations']['cause']['gold'][0][0].lower()\n",
    "        cause = cause.replace('and#039', ' ')\n",
    "        cause = re.sub(r'[^\\w\\s]', '', cause)\n",
    "        # print(cause)\n",
    "        # print('*' * 50)\n",
    "        emotion = d['annotations']['dominant_emotion']['gold']\n",
    "        token_label = []\n",
    "        try:\n",
    "            start_idx, end_idx = getIndex(document.split(), cause.split())  \n",
    "            for idx, word in enumerate(document.split()):\n",
    "                if idx == start_idx:\n",
    "                    token_label.append('B-CAU')\n",
    "                elif idx > start_idx and idx <= end_idx - 1:\n",
    "                    token_label.append('I-CAU')\n",
    "                else:\n",
    "                    token_label.append('O')\n",
    "            assert len(document.split()) == len(token_label)\n",
    "            tsv_writer.writerow([document, ' '.join(token_label), emotion])\n",
    "        except:\n",
    "            print(document)\n",
    "            print(cause)\n",
    "            print(len(document.split()))\n",
    "            print(len(token_label))\n",
    "            print('*' * 50)"
   ]
  },
  {
   "cell_type": "code",
   "execution_count": 34,
   "metadata": {},
   "outputs": [],
   "source": []
  },
  {
   "cell_type": "code",
   "execution_count": 92,
   "metadata": {},
   "outputs": [],
   "source": [
    "document = \"Teen Shoe Store Employee Goes and#039;Above And Beyondand#039; For Girl With Autism\".lower()\n",
    "cause = \"above and beyondand#039\"\n",
    "document = document.replace('and#039;', ' ')\n",
    "cause = cause.replace('and#039', '')"
   ]
  },
  {
   "cell_type": "code",
   "execution_count": 93,
   "metadata": {},
   "outputs": [],
   "source": [
    "document = re.sub(r'[^\\w\\s]', '', document)\n",
    "cause = re.sub(r'[^\\w\\s]', '', cause)"
   ]
  },
  {
   "cell_type": "code",
   "execution_count": 94,
   "metadata": {},
   "outputs": [
    {
     "name": "stdout",
     "output_type": "stream",
     "text": [
      "teen shoe store employee goes  above and beyond  for girl with autism\n",
      "above and beyond\n"
     ]
    }
   ],
   "source": [
    "print(document)\n",
    "print(cause)"
   ]
  },
  {
   "cell_type": "code",
   "execution_count": 91,
   "metadata": {},
   "outputs": [
    {
     "data": {
      "text/plain": [
       "(5, 8)"
      ]
     },
     "execution_count": 91,
     "metadata": {},
     "output_type": "execute_result"
    }
   ],
   "source": [
    "getIndex(document.split(), cause.split())"
   ]
  },
  {
   "cell_type": "markdown",
   "metadata": {},
   "source": [
    "##### Split full_data.csv into train/dev/test"
   ]
  },
  {
   "cell_type": "code",
   "execution_count": 128,
   "metadata": {},
   "outputs": [],
   "source": [
    "full_data = pd.read_csv('./data/full_data.tsv', delimiter='\\t', index_col=False)"
   ]
  },
  {
   "cell_type": "code",
   "execution_count": 129,
   "metadata": {},
   "outputs": [],
   "source": [
    "train, val, test = np.split(full_data.sample(frac=1, random_state=42), [int(.8 * len(full_data)), int(.9 * len(full_data))])"
   ]
  },
  {
   "cell_type": "code",
   "execution_count": 132,
   "metadata": {},
   "outputs": [],
   "source": [
    "train.to_csv('./data/train.tsv', index=False, sep=\"\\t\")"
   ]
  },
  {
   "cell_type": "code",
   "execution_count": 133,
   "metadata": {},
   "outputs": [],
   "source": [
    "val.to_csv('./data/val.tsv', index=False, sep=\"\\t\")"
   ]
  },
  {
   "cell_type": "code",
   "execution_count": 134,
   "metadata": {},
   "outputs": [],
   "source": [
    "test.to_csv('./data/test.tsv', index=False, sep=\"\\t\")"
   ]
  },
  {
   "cell_type": "code",
   "execution_count": null,
   "metadata": {},
   "outputs": [],
   "source": []
  }
 ],
 "metadata": {
  "interpreter": {
   "hash": "46cf1e84df6923ffb19028e015655dcda4c4cf18a8167566ca6732abf3ea935e"
  },
  "kernelspec": {
   "display_name": "Python 3.9.7 ('base')",
   "language": "python",
   "name": "python3"
  },
  "language_info": {
   "codemirror_mode": {
    "name": "ipython",
    "version": 3
   },
   "file_extension": ".py",
   "mimetype": "text/x-python",
   "name": "python",
   "nbconvert_exporter": "python",
   "pygments_lexer": "ipython3",
   "version": "3.9.7"
  },
  "orig_nbformat": 4
 },
 "nbformat": 4,
 "nbformat_minor": 2
}
